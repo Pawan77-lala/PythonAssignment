{
  "nbformat": 4,
  "nbformat_minor": 0,
  "metadata": {
    "colab": {
      "name": "Untitled1.ipynb",
      "provenance": []
    },
    "kernelspec": {
      "name": "python3",
      "display_name": "Python 3"
    }
  },
  "cells": [
    {
      "cell_type": "code",
      "metadata": {
        "colab": {
          "base_uri": "https://localhost:8080/"
        },
        "id": "k6Cph71p2ZyP",
        "outputId": "124cd102-7795-4ccb-a53c-6557e6a92edc"
      },
      "source": [
        "a=[1,2,3,4,5,6,7,8]\r\n",
        "for num in a:\r\n",
        "   if num%2==0:\r\n",
        "       print(num)"
      ],
      "execution_count": null,
      "outputs": [
        {
          "output_type": "stream",
          "text": [
            "2\n",
            "4\n",
            "6\n",
            "8\n"
          ],
          "name": "stdout"
        }
      ]
    },
    {
      "cell_type": "code",
      "metadata": {
        "colab": {
          "base_uri": "https://localhost:8080/",
          "height": 0
        },
        "id": "qXOuj-dMDXID",
        "outputId": "83ce0d57-56cf-4fb6-a6f9-aac3ab512f00"
      },
      "source": [
        "def add(num1,num2):\r\n",
        "  return num1 + num2\r\n",
        "\r\n",
        "def subtract(num1, num2):\r\n",
        "  return num1 - num2\r\n",
        "\r\n",
        "def multiply(num1, num2):\r\n",
        "  return num1 * num2\r\n",
        "\r\n",
        "def divide(num1, num2):\r\n",
        "  return num1 / num2\r\n",
        " \r\n",
        "print(\"opertion taken by user-1.add 2.substract 3.multiply 4.divide\" )\r\n",
        "select=int(input(\"select operation form 1,2,3,:\"))\r\n",
        "number_1=int(input(\"enter first number:\"))\r\n",
        "number_2=int(input(\"enter second number:\"))\r\n",
        "   \r\n",
        "if select==1:\r\n",
        "   print(number_1,\"+\",number_2,\"=\",add(number_1,number_2))\r\n",
        "elif select==2:\r\n",
        "   print(number_1,\"-\",number_2,\"=\",substract(number_1,number_2))\r\n",
        "elif select==3:\r\n",
        "   print(number_1,\"*\",number_2,\"=\",multiply(number_1,number_2))\r\n",
        "elif select==4:\r\n",
        "   print(number_1,\"/\",number_2,\"=\",divide(number_1,number_2))\r\n",
        "   \r\n",
        "else:\r\n",
        "       print(\"invalid ouput\")\r\n",
        "\r\n",
        "\r\n",
        "\r\n",
        "\r\n",
        "\r\n"
      ],
      "execution_count": 17,
      "outputs": [
        {
          "output_type": "stream",
          "text": [
            "opertion taken by user-1.add 2.substract 3.multiply 4.divide\n",
            "select operation form 1,2,3,:1\n",
            "enter first number:3\n",
            "enter second number:5\n",
            "3 + 5 = 8\n"
          ],
          "name": "stdout"
        }
      ]
    },
    {
      "cell_type": "code",
      "metadata": {
        "id": "X29i0aW5l_dK"
      },
      "source": [
        ""
      ],
      "execution_count": null,
      "outputs": []
    },
    {
      "cell_type": "code",
      "metadata": {
        "id": "t1FzqTPmmGqR"
      },
      "source": [
        "\n"
      ],
      "execution_count": null,
      "outputs": []
    },
    {
      "cell_type": "code",
      "metadata": {
        "id": "xOBuZavPmYO5"
      },
      "source": [
        ""
      ],
      "execution_count": null,
      "outputs": []
    },
    {
      "cell_type": "code",
      "metadata": {
        "id": "_Aui_3jlmHMQ"
      },
      "source": [
        ""
      ],
      "execution_count": null,
      "outputs": []
    },
    {
      "cell_type": "code",
      "metadata": {
        "id": "sLEOlR2jYoLm"
      },
      "source": [
        ""
      ],
      "execution_count": null,
      "outputs": []
    },
    {
      "cell_type": "code",
      "metadata": {
        "colab": {
          "base_uri": "https://localhost:8080/"
        },
        "id": "Q_P_xdaI2vAt",
        "outputId": "a8152822-8e51-450b-abac-d8093ca2e773"
      },
      "source": [
        "A=[1,3,5,10,15,30,45,66]\r\n",
        "for num in A:\r\n",
        "   if num%5==0 and num%3==0:\r\n",
        "       print(\"foobar\")\r\n",
        "   elif num%5==0:\r\n",
        "         print(\"bar\")\r\n",
        "   elif num%3==0:\r\n",
        "     print(\"foo\")"
      ],
      "execution_count": null,
      "outputs": [
        {
          "output_type": "stream",
          "text": [
            "foo\n",
            "bar\n",
            "bar\n",
            "foobar\n",
            "foobar\n",
            "foobar\n",
            "foo\n"
          ],
          "name": "stdout"
        }
      ]
    },
    {
      "cell_type": "code",
      "metadata": {
        "id": "sMRzrqDx5S6P"
      },
      "source": [
        "\r\n",
        "    "
      ],
      "execution_count": null,
      "outputs": []
    },
    {
      "cell_type": "markdown",
      "metadata": {
        "id": "UAdRBJ0-4_Qk"
      },
      "source": [
        "15\r\n"
      ]
    },
    {
      "cell_type": "code",
      "metadata": {
        "colab": {
          "base_uri": "https://localhost:8080/"
        },
        "id": "ZHs2-ms85BbQ",
        "outputId": "0c83e409-08e2-4ceb-8576-9df17a2b3a15"
      },
      "source": [
        "this_dict={\"name\":1,\"secondname\":\"alpharay\",\"third\":[1,2]}\r\n",
        "for key,value in this_dict.items():\r\n",
        "      if type(value)==list:\r\n",
        "          for i in value:\r\n",
        "            if i==2:\r\n",
        "               print(i)"
      ],
      "execution_count": null,
      "outputs": [
        {
          "output_type": "stream",
          "text": [
            "2\n"
          ],
          "name": "stdout"
        }
      ]
    },
    {
      "cell_type": "code",
      "metadata": {
        "colab": {
          "base_uri": "https://localhost:8080/",
          "height": 0
        },
        "id": "mB5tY2Du8O9L",
        "outputId": "f8e6bf4d-3f90-4057-c83b-abb781bea7c1"
      },
      "source": [
        "a=[3,5,-4,8,11,1,-1,6]\r\n",
        "target_sum=10\r\n",
        "b=[]\r\n",
        "def myfun(a,target_sum):\r\n",
        "    for  i in a:\r\n",
        "      for j in a:\r\n",
        "         if i+j==target_sum and i!=j:\r\n",
        "           if i not in b:\r\n",
        "             if j not in b:\r\n",
        "                b.append(i)\r\n",
        "                b.append(j)\r\n",
        "myfun(a,target_sum)\r\n",
        "print(b)\r\n",
        "                         \r\n"
      ],
      "execution_count": 18,
      "outputs": [
        {
          "output_type": "stream",
          "text": [
            "[11, -1]\n"
          ],
          "name": "stdout"
        }
      ]
    }
  ]
}